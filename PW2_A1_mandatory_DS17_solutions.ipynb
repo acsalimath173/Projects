{
  "cells": [
    {
      "cell_type": "markdown",
      "metadata": {
        "nbgrader": {
          "grade": false,
          "grade_id": "cell-39806162dd625703",
          "locked": true,
          "schema_version": 3,
          "solution": false,
          "task": false
        },
        "id": "oH3OEGuOdvg_"
      },
      "source": [
        "# Python W2 - Assignment 01 (Mandatory)"
      ]
    },
    {
      "cell_type": "markdown",
      "metadata": {
        "nbgrader": {
          "grade": false,
          "grade_id": "Q1",
          "locked": true,
          "schema_version": 3,
          "solution": false,
          "task": false
        },
        "id": "P6kAyGNqdvhY"
      },
      "source": [
        "### 1. String Manipulation (Total marks 1)\n",
        "\n",
        "Match the following string methods with the respective output in the below options\n",
        "\n",
        "Here,\n",
        " `string= \"this is old python course\"`"
      ]
    },
    {
      "cell_type": "markdown",
      "metadata": {
        "id": "qM6ALGlgdvhd"
      },
      "source": [
        "| Statement | Output |\n",
        "| --- | --- |\n",
        "| (a) string.count(\"is\") | (1) True |\n",
        "| (b) string.replace(\"old\", \"new\") | (2) 12 |\n",
        "| (c) string.index(\"python\") | (3) 'this is new python course' |\n",
        "| (d) string.startswith(\"this\") | (4) 2 |\n",
        "| (e) string.isalnum() | (5) False |\n",
        "| (g) string.strip(\"this is old\") | (6) 'python course' |"
      ]
    },
    {
      "cell_type": "markdown",
      "metadata": {
        "nbgrader": {
          "grade": true,
          "grade_id": "A1",
          "locked": false,
          "points": 2,
          "schema_version": 3,
          "solution": true,
          "task": false
        },
        "id": "QXbQvztOdvhg"
      },
      "source": [
        "#YOUR ANSWER HERE"
      ]
    },
    {
      "cell_type": "markdown",
      "source": [
        "#\"statement\"                                                              \"output\"\n",
        "a)string.count(\"is\")                                                4) 2\n",
        "\n",
        "b)string.replace(\"old\", \"new\")                  3)'this is new python course'\n",
        "\n",
        "c)string.index(\"python\")                              2) 12\n",
        "\n",
        "d) string.startswith(\"this\")                          1)True\n",
        "\n",
        "e) string.isalnum()                                           5) False\n",
        "\n",
        "g)string.strip(\"this is old\")                           6)'python course'"
      ],
      "metadata": {
        "id": "Sy0A8Teet0em"
      }
    },
    {
      "cell_type": "markdown",
      "metadata": {
        "nbgrader": {
          "grade": false,
          "grade_id": "cell-a13189a026c3771d",
          "locked": true,
          "schema_version": 3,
          "solution": false,
          "task": false
        },
        "id": "xJny04U3dvhi"
      },
      "source": [
        "\n",
        "\n",
        "\n"
      ]
    },
    {
      "cell_type": "code",
      "execution_count": null,
      "metadata": {
        "id": "MWbQD8dadvhk"
      },
      "outputs": [],
      "source": [
        "x = int(input())\n",
        "y = int(input())\n",
        "z = int(input())\n",
        "\n",
        "#Block-1 Start\n",
        "\n",
        "if x > 0 or y> 0 or z > 0:\n",
        "    if (x > 0 and y> 0) or (y> 0 and z> 0) or (z> 0 and x > 0):\n",
        "        if x > 0 and y> 0 and z > 0:\n",
        "            print('P3')\n",
        "        else:\n",
        "            print('P2')\n",
        "    else:\n",
        "        print('P1')\n",
        "\n",
        "#Block-1 End\n",
        "\n",
        "\n",
        "# Block-2 Start\n",
        "\n",
        "if x <0 or y<0 or z < 0:\n",
        "    if (x < 0 and y< 0) or (y< 0 and z< 0) or (z< 0 and x < 0):\n",
        "            if x < 0 and y< 0 and z < 0:\n",
        "                print('N3')\n",
        "            else:\n",
        "                print('N2')\n",
        "    else:\n",
        "        print('N1')\n",
        "\n",
        "\n",
        "#Block-2 End"
      ]
    },
    {
      "cell_type": "markdown",
      "metadata": {
        "id": "CJj235Ondvht"
      },
      "source": [
        "What will be the output for the below input of x,y and z?\n",
        "\n",
        "x= -1\n",
        "y= 4\n",
        "z= 1"
      ]
    },
    {
      "cell_type": "markdown",
      "metadata": {
        "nbgrader": {
          "grade": true,
          "grade_id": "cell-5b0ec5b5f53b7705",
          "locked": false,
          "points": 2,
          "schema_version": 3,
          "solution": true,
          "task": false
        },
        "id": "mGbSOdWidvhw"
      },
      "source": [
        "#YOUR ANSWER HERE"
      ]
    },
    {
      "cell_type": "code",
      "source": [
        "x = int(input(\"enter x value: \"))\n",
        "y = int(input(\"enter y value: \"))\n",
        "z = int(input(\"enter z value: \"))\n",
        "if x <0 or y<0 or z < 0:\n",
        "    if (x < 0 and y< 0) or (y< 0 and z< 0) or (z< 0 and x < 0):\n",
        "            if x < 0 and y< 0 and z < 0:\n",
        "                print('N3')\n",
        "            else:\n",
        "                print('N2')\n",
        "    else:\n",
        "        print('N1')\n"
      ],
      "metadata": {
        "colab": {
          "base_uri": "https://localhost:8080/"
        },
        "id": "2heC_IXCxNtc",
        "outputId": "daec0e24-ad42-4276-98a2-7af4c5ebc1f3"
      },
      "execution_count": 1,
      "outputs": [
        {
          "output_type": "stream",
          "name": "stdout",
          "text": [
            "enter x value: -1\n",
            "enter y value: 4\n",
            "enter z value: 1\n",
            "N1\n"
          ]
        }
      ]
    },
    {
      "cell_type": "code",
      "source": [
        "x = int(input(\"ente value x: \"))\n",
        "y = int(input(\"enter value y: \"))\n",
        "z = int(input(\"enter value z: \n",
        "\"))\n",
        "if x > 0 or y> 0 or z > 0:\n",
        "    if (x > 0 and y> 0) or (y> 0 and z> 0) or (z> 0 and x > 0):\n",
        "        if x > 0 and y> 0 and z > 0:\n",
        "            print('P3')\n",
        "        else:\n",
        "            print('P2')\n",
        "    else:\n",
        "        print('P1')"
      ],
      "metadata": {
        "colab": {
          "base_uri": "https://localhost:8080/"
        },
        "id": "Pm4NeQD4w0rE",
        "outputId": "c413b871-6183-4a73-fe5d-b10f1bb4731f"
      },
      "execution_count": 2,
      "outputs": [
        {
          "output_type": "stream",
          "name": "stdout",
          "text": [
            "ente value x: -1\n",
            "enter value y: 4\n",
            "enter value z: 1\n",
            "P2\n"
          ]
        }
      ]
    },
    {
      "cell_type": "markdown",
      "source": [
        "**#2nd answer**                       \n",
        "both two type problems are in **and**,**or**,logic operations\n",
        "check each step by step execution                     \n",
        "\"#**1st type**\"\n",
        "true\n",
        "true\n",
        "false\n",
        "so it prints N1\n",
        "\n",
        "\"**2nd type**\"\n",
        "true\n",
        "false\n",
        "false\n",
        "so it prints  P2"
      ],
      "metadata": {
        "id": "6BhiOh6VQekw"
      }
    },
    {
      "cell_type": "markdown",
      "metadata": {
        "nbgrader": {
          "grade": false,
          "grade_id": "Q2",
          "locked": true,
          "schema_version": 3,
          "solution": false,
          "task": false
        },
        "id": "DpHzZCHPdvhy"
      },
      "source": [
        "### 3. String slicing (Total marks 2)\n"
      ]
    },
    {
      "cell_type": "code",
      "execution_count": null,
      "metadata": {
        "id": "D94-X7KLdvh3"
      },
      "outputs": [],
      "source": [
        "a = int(input())\n",
        "\n",
        "b= int(input())\n",
        "\n",
        "c= int(input())\n",
        "\n",
        "d = int(input())\n",
        "\n",
        "e = int(input())\n",
        "\n",
        "print(s[-a:-len(s):-3])\n",
        "\n",
        "print (s[::-b])\n",
        "\n",
        "print (s[c:0:-3])\n",
        "\n",
        "print (s[len(s): - d:-3])\n",
        "\n",
        "print (s[:e:-3])"
      ]
    },
    {
      "cell_type": "markdown",
      "metadata": {
        "nbgrader": {
          "grade": true,
          "grade_id": "A2",
          "locked": false,
          "points": 2,
          "schema_version": 3,
          "solution": true,
          "task": false
        },
        "id": "SnTqmy0sdvh7"
      },
      "source": [
        "Consider that the string `s='abcdefghijklmnopqrstuvwxyz'`\\\n",
        "For what user input of a, b, c, d and e (where 0 <= a,b,c,d,e< len(s) ) does the above code-snippet print following output?\\\n",
        "It is a Numerical Answer Type (NAT) question. Enter your input value separated by, without any space like: 7,15,0,4,0\n",
        "\n",
        "`zwtqnkheb`\n",
        "\n",
        "`zwtqnkheb`\n",
        "\n",
        "`zwtqnkheb`\n",
        "\n",
        "`zwtqnkheb`\n",
        "\n",
        "`zwtqnkheb`"
      ]
    },
    {
      "cell_type": "code",
      "execution_count": null,
      "metadata": {
        "nbgrader": {
          "grade": false,
          "grade_id": "cell-c583dcd635f03dab",
          "locked": true,
          "schema_version": 3,
          "solution": false,
          "task": false
        },
        "id": "-7XNoB90dvh-"
      },
      "outputs": [],
      "source": [
        "#YOUR ANSWERE HERE"
      ]
    },
    {
      "cell_type": "code",
      "source": [
        " s='abcdefghijklmnopqrstuvwxyz'\n",
        " \n",
        "a = int(input(\"enter value of a: \"))\n",
        "\n",
        "b= int(input(\"enter value of b: \"))\n",
        "\n",
        "c= int(input(\"enter value of c: \"))\n",
        "\n",
        "d = int(input(\"enter value of d: \"))\n",
        "\n",
        "e = int(input(\"enter value of e: \"))\n",
        "\n",
        "print(s[-a:-len(s):-3])\n",
        "\n",
        "print (s[::-b])\n",
        "\n",
        "print (s[c:0:-3])\n",
        "\n",
        "print (s[len(s): - d:-3])\n",
        "\n",
        "print (s[:e:-3])"
      ],
      "metadata": {
        "colab": {
          "base_uri": "https://localhost:8080/"
        },
        "id": "zO3iVcxiP_1V",
        "outputId": "5c4a0bb4-0151-4597-ddf2-215b916a84d1"
      },
      "execution_count": 7,
      "outputs": [
        {
          "output_type": "stream",
          "name": "stdout",
          "text": [
            "enter value of a: 1\n",
            "enter value of b: 3\n",
            "enter value of c: 25\n",
            "enter value of d: 0\n",
            "enter value of e: 0\n",
            "zwtqnkheb\n",
            "zwtqnkheb\n",
            "zwtqnkheb\n",
            "zwtqnkheb\n",
            "zwtqnkheb\n"
          ]
        }
      ]
    },
    {
      "cell_type": "markdown",
      "source": [
        "**#3rd answer**          \n",
        "All 5 problems are on slicing,strings,indexing, concepts so be check and watch videos to understand one more time "
      ],
      "metadata": {
        "id": "e88W-ns-P6ig"
      }
    },
    {
      "cell_type": "markdown",
      "metadata": {
        "nbgrader": {
          "grade": false,
          "grade_id": "Q3",
          "locked": true,
          "schema_version": 3,
          "solution": false,
          "task": false
        },
        "id": "ZvlR6dOSdviB"
      },
      "source": [
        "### 4. Code Brackets (Total marks 2)\n",
        "\n",
        "Consider the program in the code cell below;"
      ]
    },
    {
      "cell_type": "code",
      "execution_count": null,
      "metadata": {
        "id": "BCQQcu1NdviD"
      },
      "outputs": [],
      "source": [
        "match= False\n",
        "if s.count('(') == s.count(')'):\n",
        "    if s.count('{') == s.count('}'):\n",
        "        if s.count('[') == s.count(']'):\n",
        "            match = True"
      ]
    },
    {
      "cell_type": "markdown",
      "metadata": {
        "nbgrader": {
          "grade": true,
          "grade_id": "A3",
          "locked": false,
          "points": 2,
          "schema_version": 3,
          "solution": true,
          "task": false
        },
        "id": "v3jqC-a9dviG"
      },
      "source": [
        "If s = \"abcd(efgh(ijkl}{{}))\" what will be the value of match at the end of execution and justification?\n",
        "\n",
        "1. False, the number of opening and closing brackets are only considered\n",
        "2. False, the position of opening and closing brackets are not considered.\n",
        "3. True, the number of opening and closing brackets are only considered\n",
        "4. True, the number and position of opening and closing brackets are considered.\n"
      ]
    },
    {
      "cell_type": "code",
      "execution_count": null,
      "metadata": {
        "nbgrader": {
          "grade": false,
          "grade_id": "cell-f0e0b9c35862e705",
          "locked": true,
          "schema_version": 3,
          "solution": false,
          "task": false
        },
        "id": "tBhll4gTdviI"
      },
      "outputs": [],
      "source": [
        "#YOUR ANSWER HERE"
      ]
    },
    {
      "cell_type": "code",
      "source": [
        " s = \"abcd(efgh(ijkl}{{}))\"\n",
        " match= False\n",
        "if s.count('(') == s.count(')'):\n",
        "    if s.count('{') == s.count('}'):\n",
        "        if s.count('[') == s.count(']'):\n",
        "            match = True\n"
      ],
      "metadata": {
        "id": "0gQ9l0vmiGKu"
      },
      "execution_count": 8,
      "outputs": []
    },
    {
      "cell_type": "markdown",
      "source": [
        "#**4th answer** \n",
        "\"**1st condition**\"                                        \n",
        "    number of open brackets(2)==number of close brackets(2)     \n",
        "\"**2nd condition**\"                                                      \n",
        "number of open flower brackets(2)==number of close flower brackets(2)   \n",
        "\"**3rd condition**\"            \n",
        "number of open square brackets(0)==number of close square brackets(0)\n",
        "\n",
        "#Therefore\n",
        "3)True, the number of opening and closing brackets are only considered\n",
        "we cant consider **statement 4)** because we only concentrate on opening brackets not a position according to given statements."
      ],
      "metadata": {
        "id": "W08FoLtHNbi7"
      }
    },
    {
      "cell_type": "markdown",
      "metadata": {
        "id": "yfWyFF-edviL"
      },
      "source": [
        "## Programming Questions\n",
        "\n",
        "Instructions:\n",
        "- Enter your solution in the cell block below only. Double click to edit.\n",
        "- Do not edit anything else apart from 'YOUR ANSWER HERE' for your solution"
      ]
    },
    {
      "cell_type": "code",
      "execution_count": null,
      "metadata": {
        "id": "ZotNil-jdviN"
      },
      "outputs": [],
      "source": [
        "#YOUR ANSWER HERE"
      ]
    },
    {
      "cell_type": "markdown",
      "metadata": {
        "id": "B4MzO40NdviO"
      },
      "source": [
        "### 5. Accept a sentence as input and find the number of words in it. Assume that the sentence has no punctuation marks (Total marks 2)\n",
        "\n",
        "\n",
        "Example:\n",
        "\n",
        "what a shot - 3 words\n",
        "\n",
        "this is a chair - 4 words"
      ]
    },
    {
      "cell_type": "code",
      "execution_count": null,
      "metadata": {
        "id": "AtX48PvEdviR"
      },
      "outputs": [],
      "source": [
        "#YOUR ANSWER HERE"
      ]
    },
    {
      "cell_type": "code",
      "source": [
        "a=input(\"enter a string: \")\n",
        "len(a.split(\" \"))"
      ],
      "metadata": {
        "colab": {
          "base_uri": "https://localhost:8080/"
        },
        "id": "xCRmfMprURJ1",
        "outputId": "1505eaad-dee6-4ac6-899e-bf0b4a19eb48"
      },
      "execution_count": 9,
      "outputs": [
        {
          "name": "stdout",
          "output_type": "stream",
          "text": [
            "enter a string: my mother is the greatest thing in the world\n"
          ]
        },
        {
          "output_type": "execute_result",
          "data": {
            "text/plain": [
              "9"
            ]
          },
          "metadata": {},
          "execution_count": 9
        }
      ]
    },
    {
      "cell_type": "code",
      "source": [
        "a = \"The best online platform for Data Science is Odinschool Hyderabad \"\n",
        "print(a)"
      ],
      "metadata": {
        "colab": {
          "base_uri": "https://localhost:8080/"
        },
        "id": "wJq9x3iYDcEY",
        "outputId": "979a193f-e91e-4f58-f5fc-e05d012374a8"
      },
      "execution_count": null,
      "outputs": [
        {
          "output_type": "stream",
          "name": "stdout",
          "text": [
            "The best online platform for Data Science is Odinschool Hyderabad \n"
          ]
        }
      ]
    },
    {
      "cell_type": "code",
      "source": [
        "words = a.split()\n",
        "print(words)"
      ],
      "metadata": {
        "colab": {
          "base_uri": "https://localhost:8080/"
        },
        "id": "j4NeZQTxD1Rd",
        "outputId": "a5d73edb-45a0-4873-b221-762ec576c3df"
      },
      "execution_count": null,
      "outputs": [
        {
          "output_type": "stream",
          "name": "stdout",
          "text": [
            "['The', 'best', 'online', 'platform', 'for', 'Data', 'Science', 'is', 'Odinschool', 'Hyderabad']\n"
          ]
        }
      ]
    },
    {
      "cell_type": "code",
      "source": [
        "number_of_words =len(words)\n",
        "print(number_of_words)"
      ],
      "metadata": {
        "colab": {
          "base_uri": "https://localhost:8080/"
        },
        "id": "XesdCR7YD_1b",
        "outputId": "21c6a1e4-cded-44d6-f8c8-bafbdb4f1c75"
      },
      "execution_count": null,
      "outputs": [
        {
          "output_type": "stream",
          "name": "stdout",
          "text": [
            "10\n"
          ]
        }
      ]
    },
    {
      "cell_type": "code",
      "source": [
        "\"10\"+\" words\""
      ],
      "metadata": {
        "colab": {
          "base_uri": "https://localhost:8080/",
          "height": 36
        },
        "id": "QP0-UT-aM0w1",
        "outputId": "2e8f43bd-e9c2-42b6-e7ca-5225c271eaab"
      },
      "execution_count": null,
      "outputs": [
        {
          "output_type": "execute_result",
          "data": {
            "text/plain": [
              "'10 words'"
            ],
            "application/vnd.google.colaboratory.intrinsic+json": {
              "type": "string"
            }
          },
          "metadata": {},
          "execution_count": 54
        }
      ]
    },
    {
      "cell_type": "markdown",
      "source": [
        "**5th answer**                 \n",
        "there are **two** methods to solve this problem"
      ],
      "metadata": {
        "id": "b6pUprBgUqu5"
      }
    },
    {
      "cell_type": "markdown",
      "metadata": {
        "id": "yzXmPZKsdviT"
      },
      "source": [
        "### 6. Sandwich number (Total marks 2)\n",
        "\n",
        "A three digit number is called a sandwich number if the difference between its first and last digit is equal to its middle digit. Accept a three digit number as input and print “sandwich” if the number is a sandwich number. Print “plain” if the number is not a sandwich number. For example, 123 and 853 are sandwich numbers."
      ]
    },
    {
      "cell_type": "code",
      "execution_count": null,
      "metadata": {
        "id": "kj9bGop4dviV"
      },
      "outputs": [],
      "source": [
        "#YOUR ANSWER HERE"
      ]
    },
    {
      "cell_type": "markdown",
      "source": [
        "#\"I found both sandwich and plain numbers here\""
      ],
      "metadata": {
        "id": "RJfduJhwN952"
      }
    },
    {
      "cell_type": "code",
      "source": [
        "n=input(\"enter three digit number: \")\n",
        "if abs(int(n[0])-int(n[2]))== int(n[1]):\n",
        "  print(\"sandwich\")\n",
        "else:\n",
        "  print(\"plain\")\n"
      ],
      "metadata": {
        "colab": {
          "base_uri": "https://localhost:8080/"
        },
        "id": "2BKdJv37VEah",
        "outputId": "68a28873-86f2-49fb-95aa-56d8a439b6b4"
      },
      "execution_count": 13,
      "outputs": [
        {
          "output_type": "stream",
          "name": "stdout",
          "text": [
            "enter three digit number: 789\n",
            "plain\n"
          ]
        }
      ]
    },
    {
      "cell_type": "code",
      "source": [
        "n=input(\"enter three digit number: \")\n",
        "if abs(int(n[0])-int(n[2]))== int(n[1]):\n",
        "  print(\"sandwich\")\n",
        "else:\n",
        "  print(\"plain\")"
      ],
      "metadata": {
        "colab": {
          "base_uri": "https://localhost:8080/"
        },
        "id": "U8vF2DS0Vwb0",
        "outputId": "6a841967-6311-48ec-c826-dadaaa17fd94"
      },
      "execution_count": 14,
      "outputs": [
        {
          "output_type": "stream",
          "name": "stdout",
          "text": [
            "enter three digit number: 752\n",
            "sandwich\n"
          ]
        }
      ]
    },
    {
      "cell_type": "markdown",
      "source": [
        "#**6th answer**\n",
        "**above**                      **below**                                                  \n",
        "there are two methods to check sandwich and plain go throgh those types"
      ],
      "metadata": {
        "id": "oXkV2fW7V45T"
      }
    },
    {
      "cell_type": "code",
      "source": [
        ""
      ],
      "metadata": {
        "id": "512bFdVlV4bF"
      },
      "execution_count": null,
      "outputs": []
    },
    {
      "cell_type": "code",
      "source": [
        "\n",
        "a = 641\n",
        "if abs(4)==abs(6)-abs(1):\n",
        "  print(\"number is sandwich\")\n",
        "else:\n",
        "  print(\"number is plain\")"
      ],
      "metadata": {
        "colab": {
          "base_uri": "https://localhost:8080/"
        },
        "id": "ZOIRpS4UFAPZ",
        "outputId": "8a897471-23b6-4aea-dc8b-a4324ec53d93"
      },
      "execution_count": 11,
      "outputs": [
        {
          "output_type": "stream",
          "name": "stdout",
          "text": [
            "number is plain\n"
          ]
        }
      ]
    },
    {
      "cell_type": "code",
      "source": [
        "a = 752\n",
        "if abs(5)==abs(7)-abs(2):\n",
        "  print(\"number is sandwich\")\n",
        "else:\n",
        "  print(\"number is plain\")"
      ],
      "metadata": {
        "colab": {
          "base_uri": "https://localhost:8080/"
        },
        "id": "q_Pji-PmMPei",
        "outputId": "ddfa9da2-413b-4016-aa96-f3bcc59d09df"
      },
      "execution_count": 12,
      "outputs": [
        {
          "output_type": "stream",
          "name": "stdout",
          "text": [
            "number is sandwich\n"
          ]
        }
      ]
    },
    {
      "cell_type": "code",
      "source": [
        ""
      ],
      "metadata": {
        "id": "969ca8FvxDiz"
      },
      "execution_count": null,
      "outputs": []
    }
  ],
  "metadata": {
    "celltoolbar": "Create Assignment",
    "kernelspec": {
      "display_name": "Python 3 (ipykernel)",
      "language": "python",
      "name": "python3"
    },
    "language_info": {
      "codemirror_mode": {
        "name": "ipython",
        "version": 3
      },
      "file_extension": ".py",
      "mimetype": "text/x-python",
      "name": "python",
      "nbconvert_exporter": "python",
      "pygments_lexer": "ipython3",
      "version": "3.9.12"
    },
    "toc": {
      "base_numbering": 1,
      "nav_menu": {},
      "number_sections": true,
      "sideBar": true,
      "skip_h1_title": false,
      "title_cell": "Table of Contents",
      "title_sidebar": "Contents",
      "toc_cell": false,
      "toc_position": {},
      "toc_section_display": true,
      "toc_window_display": false
    },
    "varInspector": {
      "cols": {
        "lenName": 16,
        "lenType": 16,
        "lenVar": 40
      },
      "kernels_config": {
        "python": {
          "delete_cmd_postfix": "",
          "delete_cmd_prefix": "del ",
          "library": "var_list.py",
          "varRefreshCmd": "print(var_dic_list())"
        },
        "r": {
          "delete_cmd_postfix": ") ",
          "delete_cmd_prefix": "rm(",
          "library": "var_list.r",
          "varRefreshCmd": "cat(var_dic_list()) "
        }
      },
      "types_to_exclude": [
        "module",
        "function",
        "builtin_function_or_method",
        "instance",
        "_Feature"
      ],
      "window_display": false
    },
    "colab": {
      "name": "PW2_A1_mandatory_DS17 ArunSalimath.ipynb",
      "provenance": []
    }
  },
  "nbformat": 4,
  "nbformat_minor": 0
}