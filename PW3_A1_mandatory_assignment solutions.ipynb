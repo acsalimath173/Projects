{
  "cells": [
    {
      "cell_type": "markdown",
      "metadata": {
        "nbgrader": {
          "grade": false,
          "grade_id": "cell-39806162dd625703",
          "locked": true,
          "schema_version": 3,
          "solution": false,
          "task": false
        },
        "id": "cAqaQSczhGNp"
      },
      "source": [
        "# Python W3 - Assignment 01"
      ]
    },
    {
      "cell_type": "markdown",
      "metadata": {
        "nbgrader": {
          "grade": false,
          "grade_id": "Q1",
          "locked": true,
          "schema_version": 3,
          "solution": false,
          "task": false
        },
        "id": "JJLWQ1mqhGO8"
      },
      "source": [
        "\n",
        "## 1. What does average represent at the end of the execution ? (1 mark)\n"
      ]
    },
    {
      "cell_type": "code",
      "execution_count": null,
      "metadata": {
        "nbgrader": {
          "grade": false,
          "grade_id": "cell-bdbb11386adf6c13",
          "locked": true,
          "schema_version": 3,
          "solution": false,
          "task": false
        },
        "id": "xJ-tWzyAhGPX"
      },
      "outputs": [],
      "source": [
        "total,count= 0,0\n",
        "\n",
        "for i in range(1000):\n",
        "    if i%2 != 0 and count <= 50:\n",
        "        total = total + i\n",
        "        count = count + 1\n",
        "average = total / count\n",
        "print(average)"
      ]
    },
    {
      "cell_type": "markdown",
      "metadata": {
        "id": "MoDBmQbYhGP_"
      },
      "source": [
        "| Options |\n",
        "| --- |\n",
        "| (a) average of 1 to 1000 numbers |\n",
        "| (b) average of first 1000 odd numbers |\n",
        "| (c) average of first 50 odd numbers |\n",
        "| (d) average of first 51 odd numbers |"
      ]
    },
    {
      "cell_type": "markdown",
      "source": [
        "#**ANSWER HERE**"
      ],
      "metadata": {
        "id": "SOCgSnmsoc7c"
      }
    },
    {
      "cell_type": "code",
      "source": [
        "total,count= 0,0\n",
        "\n",
        "for i in range(1000):\n",
        "    if i%2 != 0 and count <= 50:\n",
        "        total = total + i\n",
        "        count = count + 1\n",
        "average = total / count\n",
        "print(average)"
      ],
      "metadata": {
        "colab": {
          "base_uri": "https://localhost:8080/"
        },
        "id": "VClQPvL2cso7",
        "outputId": "943b8198-5e9d-4596-a8f5-cd5c6275f061"
      },
      "execution_count": null,
      "outputs": [
        {
          "output_type": "stream",
          "name": "stdout",
          "text": [
            "51.0\n"
          ]
        }
      ]
    },
    {
      "cell_type": "markdown",
      "metadata": {
        "nbgrader": {
          "grade": true,
          "grade_id": "A1",
          "locked": false,
          "points": 2,
          "schema_version": 3,
          "solution": true,
          "task": false
        },
        "id": "xC7uQZcghGQE"
      },
      "source": [
        "\n",
        "\n",
        "d) average of first 51 odd numbers"
      ]
    },
    {
      "cell_type": "markdown",
      "metadata": {
        "nbgrader": {
          "grade": false,
          "grade_id": "cell-a13189a026c3771d",
          "locked": true,
          "schema_version": 3,
          "solution": false,
          "task": false
        },
        "id": "cqvtbrxbhGQH"
      },
      "source": [
        "## 2. How many asterisks does the following code print ? (1 mark)"
      ]
    },
    {
      "cell_type": "code",
      "execution_count": null,
      "metadata": {
        "id": "Gv-dxL8EhGQX"
      },
      "outputs": [],
      "source": [
        "i = -3\n",
        "while (i<=13):\n",
        "    print('**')\n",
        "    print('*')\n",
        "    i = i+1"
      ]
    },
    {
      "cell_type": "markdown",
      "metadata": {
        "id": "uk7gfsw2hGQt"
      },
      "source": [
        "| Options |\n",
        "| --- |\n",
        "| (a) 51 |\n",
        "| (b) 25 |\n",
        "| (c) 39 |\n",
        "| (d) 48 |"
      ]
    },
    {
      "cell_type": "markdown",
      "source": [
        "#**ANSWER HERE**"
      ],
      "metadata": {
        "id": "6QyRikggf6rP"
      }
    },
    {
      "cell_type": "code",
      "source": [
        "i = -3\n",
        "while (i<=13):\n",
        "    print('**')\n",
        "    print('*')\n",
        "    i = i+1"
      ],
      "metadata": {
        "colab": {
          "base_uri": "https://localhost:8080/"
        },
        "id": "Pnbcliztfwob",
        "outputId": "6f33e1b1-0f88-4cb3-f5bc-abf7045712cb"
      },
      "execution_count": null,
      "outputs": [
        {
          "output_type": "stream",
          "name": "stdout",
          "text": [
            "**\n",
            "*\n",
            "**\n",
            "*\n",
            "**\n",
            "*\n",
            "**\n",
            "*\n",
            "**\n",
            "*\n",
            "**\n",
            "*\n",
            "**\n",
            "*\n",
            "**\n",
            "*\n",
            "**\n",
            "*\n",
            "**\n",
            "*\n",
            "**\n",
            "*\n",
            "**\n",
            "*\n",
            "**\n",
            "*\n",
            "**\n",
            "*\n",
            "**\n",
            "*\n",
            "**\n",
            "*\n",
            "**\n",
            "*\n"
          ]
        }
      ]
    },
    {
      "cell_type": "markdown",
      "metadata": {
        "nbgrader": {
          "grade": true,
          "grade_id": "cell-5b0ec5b5f53b7705",
          "locked": false,
          "points": 2,
          "schema_version": 3,
          "solution": true,
          "task": false
        },
        "id": "qCGHRJ_whGRE"
      },
      "source": [
        "\n",
        "a)51"
      ]
    },
    {
      "cell_type": "markdown",
      "metadata": {
        "nbgrader": {
          "grade": false,
          "grade_id": "Q2",
          "locked": true,
          "schema_version": 3,
          "solution": false,
          "task": false
        },
        "id": "krxo3YAxhGRL"
      },
      "source": [
        "## Question 3 (1 mark)\n",
        "\n",
        "P is a non empty list of distinct integers that has already been defined. Which of the following statements are true at the end of execution of the code given below ? More than one option can be correct.\n"
      ]
    },
    {
      "cell_type": "code",
      "execution_count": null,
      "metadata": {
        "id": "yw-V6uhghGRO"
      },
      "outputs": [],
      "source": [
        "Q,R = [], []\n",
        "\n",
        "for x in P:\n",
        "    Q.append(-x)\n",
        "Q.sort()\n",
        "for x in Q:\n",
        "    R.append(-x)"
      ]
    },
    {
      "cell_type": "markdown",
      "metadata": {
        "nbgrader": {
          "grade": true,
          "grade_id": "A2",
          "locked": false,
          "points": 2,
          "schema_version": 3,
          "solution": true,
          "task": false
        },
        "id": "-7xSN6DxhGRT"
      },
      "source": [
        "| Options |\n",
        "| --- |\n",
        "| (a) P is always equal to R , i.e., P == R returns the value True |\n",
        "| (b) Every element in P is present in R , but not necessarily in the same sequence |\n",
        "| (c) R is a list of integers sorted in descending order |\n",
        "| (d) R is a list of integers sorted in ascending order |"
      ]
    },
    {
      "cell_type": "markdown",
      "metadata": {
        "nbgrader": {
          "grade": false,
          "grade_id": "cell-c583dcd635f03dab",
          "locked": true,
          "schema_version": 3,
          "solution": false,
          "task": false
        },
        "id": "ojgmXslUhGRW"
      },
      "source": [
        "#**ANSWER HERE**\n",
        "\n",
        "(b) Every element in P is present in R , but not necessarily in the same sequence\n",
        "\n",
        "(c) R is a list of integers sorted in descending order\n",
        "\n"
      ]
    },
    {
      "cell_type": "markdown",
      "metadata": {
        "nbgrader": {
          "grade": false,
          "grade_id": "Q4",
          "locked": true,
          "schema_version": 3,
          "solution": false,
          "task": false
        },
        "id": "PZoB4KpGhGRj"
      },
      "source": [
        "## 4. Check Function (1.5 mark)\n",
        "\n",
        "Given the following function description\n",
        "Returns True if it is possible to add two of the arguments to get the remaining one and False otherwise.\n",
        "\n",
        "Example:-\n",
        "Check(1, 2, 3) returns True\n",
        "\n",
        "Check(3, 1, 2) returns True\n",
        "\n",
        "Check(3, 2, 2) returns False\n",
        "\n",
        " \n",
        "Which of the following function definitions produces the desired effect?\n",
        "\n",
        "More than one option can be correct"
      ]
    },
    {
      "cell_type": "code",
      "execution_count": null,
      "metadata": {
        "id": "iclqoNyphGRn"
      },
      "outputs": [],
      "source": [
        "#OPTION A\n",
        "\n",
        "def Check(a,b,c):\n",
        "    l = [a,b,c]\n",
        "    l.sort()\n",
        "    return min(l) + min(l[1:]) == max(a,b,c)\n",
        "\n",
        "\n",
        "#===================================================#\n",
        "# OPTION B\n",
        "\n",
        "def Check(a,b,c):\n",
        "    if((a + b == c) and (a + c == b) and (b + c == a)):\n",
        "        return True\n",
        "    return False\n",
        "\n",
        "#===================================================#\n",
        "# OPTION C\n",
        "\n",
        "def Check(a,b,c):\n",
        "    if (a + b == c):\n",
        "        return True\n",
        "    elif (a + c == b) or (b + c == a):\n",
        "        return True\n",
        "    return False\n",
        "\n",
        "#===================================================#\n",
        "# OPTION D\n",
        "\n",
        "def Check(a,b,c):\n",
        "    if (a + b != c):\n",
        "        return False\n",
        "    elif (a + c != b):\n",
        "        return False\n",
        "    elif (b + c != a):\n",
        "        return False\n",
        "    return True\n",
        "\n",
        "#===================================================#\n",
        "# OPTION E\n",
        "\n",
        "def Check(a,b,c):\n",
        "    l = [a,b,c]\n",
        "    l.sort()\n",
        "    return l[0] + l[1] == l[2]"
      ]
    },
    {
      "cell_type": "markdown",
      "metadata": {
        "nbgrader": {
          "grade": true,
          "grade_id": "A4",
          "locked": false,
          "points": 2,
          "schema_version": 3,
          "solution": true,
          "task": false
        },
        "id": "cDfgWkX9hGR7"
      },
      "source": [
        "**ANSWER HERE**\n",
        "\n",
        " \n",
        "we can use Option A ,Option C, and  Option E to get desired result\n",
        "\n",
        "by using  these below three arguments\n",
        "\n",
        "check(1,2,3) returns True\n",
        "\n",
        "check(3,1,2) returns True\n",
        "\n",
        "check(3,2,2) returns False\n",
        "\n"
      ]
    },
    {
      "cell_type": "markdown",
      "metadata": {
        "id": "Wew6NlJQhGSo"
      },
      "source": [
        "### 5. Palindrome (1.5 marks)\n",
        "\n",
        "Write a program that accepts a string as input and determines whether it is a palindrome or not. A palindrome is a word which is spelled the same way in both the directions i.e., regardless of whether you read it from left to right or right to left it is the same word. \n",
        "\n",
        "Example:\n",
        "    Madam, Racecar\n",
        "\n"
      ]
    },
    {
      "cell_type": "markdown",
      "source": [
        "**ANSWER HERE**\n",
        "I have done it in two methods\n"
      ],
      "metadata": {
        "id": "npRe6kqIv9-3"
      }
    },
    {
      "cell_type": "code",
      "execution_count": 8,
      "metadata": {
        "id": "On-A3ItZhGSs",
        "colab": {
          "base_uri": "https://localhost:8080/"
        },
        "outputId": "2462aef1-a1f2-4027-aa6b-cf6c6a68ecda"
      },
      "outputs": [
        {
          "output_type": "stream",
          "name": "stdout",
          "text": [
            "yes it is Palindrome\n"
          ]
        }
      ],
      "source": [
        "#one method by using function\n",
        "def isPalindrome(s):\n",
        "  return s==s[::-1]\n",
        "\n",
        "s=\"stats\"\n",
        "ans=isPalindrome(s)\n",
        "if ans:\n",
        "  print(\"yes it is Palindrome\")\n",
        "else:\n",
        "   print(\"It is not a Palindrome\") "
      ]
    },
    {
      "cell_type": "code",
      "source": [
        "#second method\n",
        "s=\"rotator\"\n",
        "s[::-1]==\"rotator\"\n",
        "if s==s[::-1]:\n",
        "  print(\"It is a Palindrome\")\n",
        "else:\n",
        "  print(\"It is not a Palindrome\")"
      ],
      "metadata": {
        "colab": {
          "base_uri": "https://localhost:8080/"
        },
        "id": "3vMtkZTvrTe9",
        "outputId": "c5aab49a-bd16-4e24-8b4a-e4f41d4e0ec8"
      },
      "execution_count": 11,
      "outputs": [
        {
          "output_type": "stream",
          "name": "stdout",
          "text": [
            "It is a Palindrome\n"
          ]
        }
      ]
    },
    {
      "cell_type": "code",
      "source": [
        "#odinschool method\n",
        "s=input(\"Enter a value \")\n",
        "left=0\n",
        "right=len(s)-1\n",
        "\n",
        "while left<len(s):\n",
        "  if s[left]==s[right]:\n",
        "      left=left+1\n",
        "      right=right-1\n",
        "  else:\n",
        "    print(\"False\")\n",
        "    break\n",
        "else:\n",
        "  print(\"True\")\n"
      ],
      "metadata": {
        "colab": {
          "base_uri": "https://localhost:8080/"
        },
        "id": "HWlOXRnpwdK8",
        "outputId": "c2fb8adc-42d7-4d7b-ba7f-216c8851d416"
      },
      "execution_count": 15,
      "outputs": [
        {
          "output_type": "stream",
          "name": "stdout",
          "text": [
            "Enter a value gadag\n",
            "True\n"
          ]
        }
      ]
    },
    {
      "cell_type": "markdown",
      "metadata": {
        "id": "MhaUmXDDhGSt"
      },
      "source": [
        "### 6. List Rotation (2 marks)\n",
        "\n",
        "A clockwise rotation of a list consists of taking the last element and moving it to the beginning of the list. For instance, if we rotate the list [1,2,3,4.5, we get [5,1,2,3,4]. If we rotate it again, we get [4,5,1,2,3].\n",
        "\n",
        "Write a program to accept a non-empty sequence of numbers separated by space and a positive integer k and print the list elements in same line separated by space after k rotations. For example:\n"
      ]
    },
    {
      "cell_type": "markdown",
      "metadata": {
        "id": "VSFTlBuZhGSu"
      },
      "source": [
        "\n",
        "Input\n",
        "\n",
        "1 2 3 4 5\n",
        "\n",
        "3\n",
        "\n",
        "Output\n",
        "\n",
        "3 4 5 1 2"
      ]
    },
    {
      "cell_type": "markdown",
      "source": [
        "**ANSWER HERE**"
      ],
      "metadata": {
        "id": "kSMIy92wwB-f"
      }
    },
    {
      "cell_type": "code",
      "source": [
        "#By using Data structure types\n",
        "def rightRotate(lists, num):\n",
        "    output_list = []\n",
        " \n",
        "    for item in range(len(lists) - num, len(lists)):\n",
        "        output_list.append(lists[item])\n",
        "\n",
        "    for item in range(0, len(lists) - num):\n",
        "        output_list.append(lists[item])\n",
        " \n",
        "    return output_list\n",
        " \n",
        "rotate_num = 3\n",
        "list_1 = [1, 2, 3, 4, 5, ]\n",
        " \n",
        "print(rightRotate(list_1, rotate_num))"
      ],
      "metadata": {
        "colab": {
          "base_uri": "https://localhost:8080/"
        },
        "id": "gtx8ueMYr2wX",
        "outputId": "f8e62b7f-28ca-46a9-f10d-5e90251834e8"
      },
      "execution_count": null,
      "outputs": [
        {
          "output_type": "stream",
          "name": "stdout",
          "text": [
            "[3, 4, 5, 1, 2]\n"
          ]
        }
      ]
    },
    {
      "cell_type": "code",
      "source": [
        "#odinschool answer\n",
        "inp=input(\"Enter your sequence of numbers seperated by space: \")\n",
        "k=int(input(\"Enter k,the number of times list has to be rotated: \"))\n",
        "new_list=[]\n",
        "for i in list:\n",
        "  new_list.append(int(i))\n",
        "print(new_list)\n",
        "list_rotated=[]\n",
        "for i in range(1,k+1):\n",
        "  list_rotated.append(new_list[-i])\n",
        "  list_rotated=list_rotated[::-1]+new_list[:len(new_list)-i]\n",
        "  print(list_rotated)"
      ],
      "metadata": {
        "colab": {
          "base_uri": "https://localhost:8080/",
          "height": 281
        },
        "id": "3j5o97Tr0XRL",
        "outputId": "26a20926-e29f-4033-8e68-4def5f05e959"
      },
      "execution_count": 23,
      "outputs": [
        {
          "name": "stdout",
          "output_type": "stream",
          "text": [
            "Enter your sequence of numbers seperated by space: 12345\n",
            "Enter k,the number of times list has to be rotated: 2\n"
          ]
        },
        {
          "output_type": "error",
          "ename": "TypeError",
          "evalue": "ignored",
          "traceback": [
            "\u001b[0;31m---------------------------------------------------------------------------\u001b[0m",
            "\u001b[0;31mTypeError\u001b[0m                                 Traceback (most recent call last)",
            "\u001b[0;32m<ipython-input-23-6b5c3e4ee07b>\u001b[0m in \u001b[0;36m<module>\u001b[0;34m()\u001b[0m\n\u001b[1;32m      3\u001b[0m \u001b[0mk\u001b[0m\u001b[0;34m=\u001b[0m\u001b[0mint\u001b[0m\u001b[0;34m(\u001b[0m\u001b[0minput\u001b[0m\u001b[0;34m(\u001b[0m\u001b[0;34m\"Enter k,the number of times list has to be rotated: \"\u001b[0m\u001b[0;34m)\u001b[0m\u001b[0;34m)\u001b[0m\u001b[0;34m\u001b[0m\u001b[0;34m\u001b[0m\u001b[0m\n\u001b[1;32m      4\u001b[0m \u001b[0mnew_list\u001b[0m\u001b[0;34m=\u001b[0m\u001b[0;34m[\u001b[0m\u001b[0;34m]\u001b[0m\u001b[0;34m\u001b[0m\u001b[0;34m\u001b[0m\u001b[0m\n\u001b[0;32m----> 5\u001b[0;31m \u001b[0;32mfor\u001b[0m \u001b[0mi\u001b[0m \u001b[0;32min\u001b[0m \u001b[0mlist\u001b[0m\u001b[0;34m:\u001b[0m\u001b[0;34m\u001b[0m\u001b[0;34m\u001b[0m\u001b[0m\n\u001b[0m\u001b[1;32m      6\u001b[0m   \u001b[0mnew_list\u001b[0m\u001b[0;34m.\u001b[0m\u001b[0mappend\u001b[0m\u001b[0;34m(\u001b[0m\u001b[0mint\u001b[0m\u001b[0;34m(\u001b[0m\u001b[0mi\u001b[0m\u001b[0;34m)\u001b[0m\u001b[0;34m)\u001b[0m\u001b[0;34m\u001b[0m\u001b[0;34m\u001b[0m\u001b[0m\n\u001b[1;32m      7\u001b[0m \u001b[0mprint\u001b[0m\u001b[0;34m(\u001b[0m\u001b[0mnew_list\u001b[0m\u001b[0;34m)\u001b[0m\u001b[0;34m\u001b[0m\u001b[0;34m\u001b[0m\u001b[0m\n",
            "\u001b[0;31mTypeError\u001b[0m: 'type' object is not iterable"
          ]
        }
      ]
    },
    {
      "cell_type": "markdown",
      "metadata": {
        "id": "7yQHJ1mihGS8"
      },
      "source": [
        "### 7. User Score (2 marks)\n",
        "\n",
        "You are a forum admin. You wish to find out the total score of each user using the scoring logic given below. If the user scores more than 50, then the user is given a Leader badge, otherwise a Basic badge is given."
      ]
    },
    {
      "cell_type": "markdown",
      "metadata": {
        "id": "k-JjIXmNhGS9"
      },
      "source": [
        "| Action | Points |\n",
        "| --- | --- |\n",
        "| read a post | 1 |\n",
        "| replied to a post | 3 |\n",
        "| created a new post | 5 |"
      ]
    },
    {
      "cell_type": "markdown",
      "metadata": {
        "id": "4ZHV1LhMhGTA"
      },
      "source": [
        "Implement the body of the function `user_score`. The function accepts 3 integer arguments- `read_count, reply_count, new_post_count`. It calculates the score based on the input counts and returns `Leader` or `Basic`."
      ]
    },
    {
      "cell_type": "code",
      "execution_count": null,
      "metadata": {
        "id": "7Bv8GUPWhGTE"
      },
      "outputs": [],
      "source": [
        "def user_score(read_count, reply_count, new_post_count):\n",
        "\n",
        "  \n",
        "\n",
        "    #Write Function Body\n",
        "    #YOUR ANSWER HERE\n",
        " "
      ]
    },
    {
      "cell_type": "code",
      "source": [
        "def user_score(read_count, reply_count, new_post_count):\n",
        "\n",
        " if read_count + reply_count + new_post_count > 50 :\n",
        "       print(\"You sre awarded with Leader badge\")\n",
        " else :\n",
        "      print(\"You are awarded with basic badge\")"
      ],
      "metadata": {
        "id": "V7c5jlb2mw35"
      },
      "execution_count": null,
      "outputs": []
    },
    {
      "cell_type": "code",
      "source": [
        "user_score(7,14,21)"
      ],
      "metadata": {
        "colab": {
          "base_uri": "https://localhost:8080/"
        },
        "id": "9uSp5nC7lN7x",
        "outputId": "f8b6d9bc-963b-405c-c63e-c6b94ee489b6"
      },
      "execution_count": null,
      "outputs": [
        {
          "output_type": "stream",
          "name": "stdout",
          "text": [
            "You are awarded with basic badge\n"
          ]
        }
      ]
    },
    {
      "cell_type": "code",
      "source": [
        "user_score(50,100,150)"
      ],
      "metadata": {
        "colab": {
          "base_uri": "https://localhost:8080/"
        },
        "id": "23bU7IbunZPI",
        "outputId": "9cd61cc8-3d84-4494-b3fc-8b64f9a99ef0"
      },
      "execution_count": null,
      "outputs": [
        {
          "output_type": "stream",
          "name": "stdout",
          "text": [
            "You sre awarded with Leader badge\n"
          ]
        }
      ]
    },
    {
      "cell_type": "code",
      "source": [
        ""
      ],
      "metadata": {
        "id": "6ltBuD1Fl2mi"
      },
      "execution_count": null,
      "outputs": []
    },
    {
      "cell_type": "code",
      "source": [
        "#odinschool answer\n",
        "def  user_score(read_count, reply_count, new_post_count):\n",
        "\n",
        "      score= 1*read_count+3*reply_count+5*new_post_count\n",
        "      if score >50:  return \"leader\"\n",
        "      else: return \"Basic\""
      ],
      "metadata": {
        "id": "FvpiBh07CZJw"
      },
      "execution_count": 35,
      "outputs": []
    }
  ],
  "metadata": {
    "celltoolbar": "Create Assignment",
    "kernelspec": {
      "display_name": "Python 3 (ipykernel)",
      "language": "python",
      "name": "python3"
    },
    "language_info": {
      "codemirror_mode": {
        "name": "ipython",
        "version": 3
      },
      "file_extension": ".py",
      "mimetype": "text/x-python",
      "name": "python",
      "nbconvert_exporter": "python",
      "pygments_lexer": "ipython3",
      "version": "3.9.12"
    },
    "toc": {
      "base_numbering": 1,
      "nav_menu": {},
      "number_sections": true,
      "sideBar": true,
      "skip_h1_title": false,
      "title_cell": "Table of Contents",
      "title_sidebar": "Contents",
      "toc_cell": false,
      "toc_position": {},
      "toc_section_display": true,
      "toc_window_display": false
    },
    "varInspector": {
      "cols": {
        "lenName": 16,
        "lenType": 16,
        "lenVar": 40
      },
      "kernels_config": {
        "python": {
          "delete_cmd_postfix": "",
          "delete_cmd_prefix": "del ",
          "library": "var_list.py",
          "varRefreshCmd": "print(var_dic_list())"
        },
        "r": {
          "delete_cmd_postfix": ") ",
          "delete_cmd_prefix": "rm(",
          "library": "var_list.r",
          "varRefreshCmd": "cat(var_dic_list()) "
        }
      },
      "types_to_exclude": [
        "module",
        "function",
        "builtin_function_or_method",
        "instance",
        "_Feature"
      ],
      "window_display": false
    },
    "colab": {
      "name": "W3 Arun Salimath.ipynb",
      "provenance": []
    }
  },
  "nbformat": 4,
  "nbformat_minor": 0
}